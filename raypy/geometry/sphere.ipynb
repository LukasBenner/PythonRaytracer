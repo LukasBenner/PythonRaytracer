{
 "cells": [
  {
   "cell_type": "code",
   "execution_count": null,
   "metadata": {},
   "outputs": [],
   "source": [
    "import numpy as np\n",
    "\n",
    "from .primitive import Primitive\n",
    "from .collider import Collider\n",
    "\n",
    "from raypy.utils.constants import *\n"
   ]
  },
  {
   "attachments": {},
   "cell_type": "markdown",
   "metadata": {},
   "source": [
    "## Sphäre\n",
    "\n",
    "Eine Sphäre (oft auch Kugel genannt) beschreibt eine runde Figur oder ihre Oberfläche. Wichtig dabei ist, dass jeder Punkt auf der Oberfläche die gleiche Distanz zum Mittelpunkt besitzt.\n"
   ]
  },
  {
   "attachments": {},
   "cell_type": "markdown",
   "metadata": {},
   "source": [
    "\n",
    "Wird ein Lichtstrahl ausgesendet, muss berechnet werden ob und wie der Lichstrahl zur Späre steht. Hier interessiert vorallem der erste Auftreffpunkt. Es gibt dabei 3 Möglichkeiten wie der Lichtstrahl zur Späre steht.\n",
    "- Er verfehlt sie.\n",
    "- Er streift sie.\n",
    "- Er durchquert sie."
   ]
  },
  {
   "attachments": {},
   "cell_type": "markdown",
   "metadata": {},
   "source": [
    "Wird die Späre verfehlt, dann gibt es keinen Auftreffpunkt.\n",
    "Wird die Späre nur gestriffen, dann gibt es **genau einen** Auftreffpunkt.\n",
    "Wird die Späre durchkreuzt, dann gibt es 2 Schnittpunkte, einen Eintrittspunkt und einen Austrittspunkt. In diesem Fall interessiert uns nur der erste Auftreffpunkt, also der Eintrittspunkt."
   ]
  },
  {
   "cell_type": "code",
   "execution_count": null,
   "metadata": {},
   "outputs": [],
   "source": [
    "\n",
    "\n",
    "class Sphere(Primitive):\n",
    "    def __init__(self, center, material, radius, max_ray_depth=5, shadow=True):\n",
    "        super().__init__(center, material, max_ray_depth, shadow)\n",
    "        self.collider_list += [SphereCollider(assigned_primitive=self, center=center, radius=radius)]\n",
    "        self.bounded_sphere_radius = radius\n",
    "\n",
    "    def get_uv(self, hit):\n",
    "        return hit.collider.get_uv(hit)\n"
   ]
  },
  {
   "cell_type": "code",
   "execution_count": null,
   "metadata": {},
   "outputs": [],
   "source": [
    "\n",
    "\n",
    "class SphereCollider(Collider):\n",
    "    def __init__(self,  radius, **kwargs):\n",
    "        super().__init__(**kwargs)\n",
    "        self.radius = radius\n",
    "\n",
    "    def intersect(self, origin, direction):\n",
    "        b = 2 * direction.dot(origin - self.center)\n",
    "        c = self.center.square_length() + origin.square_length() - 2 * self.center.dot(origin) - (self.radius * self.radius)\n",
    "        disc = (b ** 2) - (4 * c)\n",
    "        sq = np.sqrt(np.maximum(0, disc))\n",
    "        h0 = (-b - sq) / 2\n",
    "        h1 = (-b + sq) / 2\n",
    "        h = np.where((h0 > 0) & (h0 < h1), h0, h1)\n",
    "        pred = (disc > 0) & (h > 0)\n",
    "        M = (origin + direction * h)\n",
    "        NdotD = ((M - self.center) * (1. / self.radius)).dot(direction)\n",
    "\n",
    "        pred1 = (disc > 0) & (h > 0) & (NdotD > 0)\n",
    "        pred2 = (disc > 0) & (h > 0) & (NdotD < 0)\n",
    "        pred3 = True\n",
    "\n",
    "        # return an array with hit distance and the hit orientation\n",
    "        return np.select([pred1, pred2, pred3],\n",
    "                         [[h, np.tile(UPDOWN, h.shape)], [h, np.tile(UPWARDS, h.shape)], FARAWAY])\n",
    "\n",
    "    def get_normal(self, hit):\n",
    "        return (hit.point - self.center) / self.radius"
   ]
  }
 ],
 "metadata": {
  "kernelspec": {
   "display_name": "Python 3",
   "language": "python",
   "name": "python3"
  },
  "language_info": {
   "name": "python",
   "version": "3.10.6 (main, Nov 14 2022, 16:10:14) [GCC 11.3.0]"
  },
  "orig_nbformat": 4,
  "vscode": {
   "interpreter": {
    "hash": "e7370f93d1d0cde622a1f8e1c04877d8463912d04d973331ad4851f04de6915a"
   }
  }
 },
 "nbformat": 4,
 "nbformat_minor": 2
}
