{
 "cells": [
  {
   "attachments": {},
   "cell_type": "markdown",
   "metadata": {},
   "source": [
    "# Ray Tracer\n",
    "\n",
    "## Einleitung\n",
    "\n",
    "Auf Deutsch bezeichnet der englische Begriff „Ray tracing“ das „Nachverfolgen von Strahlen“. Genauer gesagt: Lichtstrahlen. Als Grafik-Technologie ermöglicht Ray tracing die Simulierung von Lichteffekten. Ein Algorithmus sendet hierzu Strahlen in einer 3D-Grafik aus, verfolgt die Strahlenpfade und berechnet ein realistisches Beleuchtungsmodell.\n",
    "\n",
    "In der realen Welt senden Lichtquellen Lichtstrahlen aus, die dann auf Objekte treffen, dort gebrochen, reflektiert oder gestreut werden und schlussendlich bei der Kamera ankommen.\n",
    "Die von der Kamera erfassten Lichtstrahlen sind deshalb nur ein Bruchteil der Lichtstrahlen, die von der Lichtquelle zwar ausgesendet, von der Kamera aber nicht aufgenommen werden.\n",
    "\n",
    "Um nur die, für die Kamera wichtigen, Lichtstrahlen zu berechnen, wird der Weg des Lichts beim Ray tracing entgegen der natürlichen Richtung berechnet.\n",
    "Die Lichtstrahlen werden also von der Kamera ausgesendet und zurückverfolgt. Die folgende Grafik zeigt wie ein Ray aus der Kamera durch die Bildebene in den drei dimensionalen Raum gesendet wird.\n",
    "\n",
    "<img src=\"assets/rayTracingOverview.png\" width=500px></img>\n",
    "\n",
    "Beim Ray tracing werden ausgehend vom Augpunkt für jeden Pixel der Bildebene wird ein Ray ausgesendet. Die Rays durchstoßen die Bildebene und treffen dann auf die Objekte im drei dimensionalen Raum.\n",
    "Die Farbe eines jeden Pixels der Bildebene wird durch die sog. Rendergleichung berechnet."
   ]
  },
  {
   "attachments": {},
   "cell_type": "markdown",
   "metadata": {},
   "source": [
    "## Was ist ein Ray\n",
    "\n",
    "Ein Ray, oder auch ein Lichtstrahl, ist die Kombination aus einem Ursprung und einer Richtung.\n",
    "Ursprung und Richtung eines Rays können jeweils durch einen Vektor angegeben werden. Durch die Linearkombination \n",
    "des Ortsvektors (Ursprung) und des Richtungsvektors kann so jeder beliebige Punkt auf einem Ray angegeben werden.\n",
    "\n",
    "<img src=\"assets/ray.jpg\" width=500px></img>\n",
    "\n",
    "Die Gleichung für eine Ray ist also folgenden: $\\vec{Ray(t)}=\\vec{A}+\\vec{B}*t$\n",
    "\n",
    "Die einfachste Implementierung eins Rays wäre also folgende:"
   ]
  },
  {
   "cell_type": "code",
   "execution_count": 1,
   "metadata": {},
   "outputs": [],
   "source": [
    "class Ray:\n",
    "  \"\"\"Info of the ray and the media it's travelling\"\"\"\n",
    "\n",
    "  def __init__(self, origin, dir):\n",
    "      self.origin = origin  # the point where the ray comes from\n",
    "      self.dir = dir  # direction of the ray"
   ]
  },
  {
   "cell_type": "code",
   "execution_count": null,
   "metadata": {},
   "outputs": [],
   "source": []
  }
 ],
 "metadata": {
  "kernelspec": {
   "display_name": "venv",
   "language": "python",
   "name": "python3"
  },
  "language_info": {
   "codemirror_mode": {
    "name": "ipython",
    "version": 3
   },
   "file_extension": ".py",
   "mimetype": "text/x-python",
   "name": "python",
   "nbconvert_exporter": "python",
   "pygments_lexer": "ipython3",
   "version": "3.10.9"
  },
  "orig_nbformat": 4,
  "vscode": {
   "interpreter": {
    "hash": "8fc5615ef0ed62560741bd268b6514b5cf9423e847e33b411031c2f4d6a589ca"
   }
  }
 },
 "nbformat": 4,
 "nbformat_minor": 2
}
