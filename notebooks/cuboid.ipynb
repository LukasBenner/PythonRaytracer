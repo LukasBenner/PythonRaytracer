{
 "cells": [
  {
   "attachments": {},
   "cell_type": "markdown",
   "metadata": {},
   "source": [
    "## Quader\n",
    "\n",
    "Ein Quader wird mithilfe einer Länge, einer Breite und einer Höhe beschrieben.\n"
   ]
  },
  {
   "attachments": {},
   "cell_type": "markdown",
   "metadata": {},
   "source": [
    "![Cuboid](assets/Cuboid.jpg)"
   ]
  },
  {
   "attachments": {},
   "cell_type": "markdown",
   "metadata": {},
   "source": [
    "Diese Parameter ermöglichen außerdem eine Rotation des Quaders und die Berechnung der Schnittpunkte des Quaders mit den Rays.\n",
    "\n",
    "Zur Bestimmung der Schnittpunkte wird eine Diagonale durch den Quader gezogen, dessen Schnittpunkte mit der Oberfläche des Quaders berechnet werden.\n",
    "\n",
    "lb = left botton in the front\n",
    "\n",
    "rt = right top in the back\n",
    "\n",
    "Die beiden Punkte lb und rt berechnen sich aus dem Mittelpunkt des Quaders C und der Hälfte der Länge, Breite und Höhe:\n",
    "\n",
    "$$ lb = \\vec{C} +\n",
    "\\begin{pmatrix}\n",
    "\\frac{l}{2} \\\\ \\frac{h}{2} \\\\ \\frac{b}{2}\n",
    "\\end{pmatrix}\n",
    "$$\n",
    "\n",
    "$$ rt = \\vec{C} -\n",
    "\\begin{pmatrix}\n",
    "\\frac{l}{2} \\\\ \\frac{h}{2} \\\\ \\frac{b}{2}\n",
    "\\end{pmatrix}\n",
    "$$"
   ]
  },
  {
   "attachments": {},
   "cell_type": "markdown",
   "metadata": {},
   "source": [
    "![CuboidDiagonale](assets/CuboidDiagonale.jpg)"
   ]
  },
  {
   "attachments": {},
   "cell_type": "markdown",
   "metadata": {},
   "source": [
    "Möchte man nun den Quader rotieren (siehe rotate()) so wird zuerst das Punktprodukt aus den Basisvektoren (die 3 Einheitsvektoren) mit der Rotationsmatrix M berechnet.\n",
    "\n",
    "Anschließend wird die Strecke zwischen dem Mittelpunkt und den Punkten lb/rt berechnet, mit der Rotationsmatrix multipliziert und auf den Mittelpunkt addiert. Diese neuen lb/rt Punkte werden noch mit den neuen Basisvektoren multipliziert, wodurch der Quader gedreht wurde."
   ]
  },
  {
   "attachments": {},
   "cell_type": "markdown",
   "metadata": {},
   "source": [
    "![StreckenRtLb](assets/CuboidRotate.jpg)"
   ]
  },
  {
   "attachments": {},
   "cell_type": "markdown",
   "metadata": {},
   "source": [
    "## Schnittpunkt Quader mit Strahl\n",
    "\n",
    "Die Berechnung eines Schnittpunkts von einem achsenparallen Quader ist sehr simpel, schwierig wird es, wenn der Quader wie hier gedreht wird.\n",
    "\n",
    "Um das Problem zu umgehen wird einfach zu Beginn der Strahl mit den Basisvektoren multipliziert, wodurch die Achsenparallelität wieder gegeben ist.\n"
   ]
  },
  {
   "attachments": {},
   "cell_type": "markdown",
   "metadata": {},
   "source": [
    "![AABB](assets/AABB.jpg)"
   ]
  },
  {
   "attachments": {},
   "cell_type": "markdown",
   "metadata": {},
   "source": [
    "\n",
    "Siehe $O\\_local\\_basis$ für den neuen Ursprung des Strahls ($O_n$) und $D\\_local\\_basis$ für den neuen Richtungsvektor ($D_n$).\n",
    "\n",
    "Ist die Parallelität gegeben, kann der Axis-aligned minimun bounding box (AABB) Algotithmus angewendet werden.\n",
    "\n",
    "Hier wird zuerst für jede Richtung (x,y,z) ein Intervall berechnet.\n",
    "\n",
    "Das untere Beispiel berechnet das Intervall in x-Richtung = (t1, t2):\n",
    "\n",
    "$$ t1 = \\frac{x_1 - O_nx}{D_{nx}} $$\n",
    "$$ t2 = \\frac{x_2 - O_nx}{D_{nx}} $$\n",
    "\n",
    "$x_1$ = unterer, linker, vorderer Punkt\n",
    "\n",
    "$x_2$ = unterer, rechter, hinterer Punkt\n",
    "\n",
    "Diese Berechnung führt man für alle 3 Achsen durch.\n",
    "\n",
    "Anschließend werden die Randwerte berechnet ??\n",
    "\n",
    "\n",
    "Daraus lässt sich folgendes ablesen:\n",
    "\n",
    "- $t_{max} < 0$: **ein** Schnittpunkt\n",
    "- $t_{max} < t_min$: **kein** Schnittpunkt\n",
    "- $t_{min} < 0$: Ursprung des Rays liegt im Quader\n"
   ]
  },
  {
   "attachments": {},
   "cell_type": "markdown",
   "metadata": {},
   "source": [
    "Um den Normalenvektor zu berechnen, wird benötigt um die Reflektion des Strahls zu bestimmen, wird erst ein Punkt P berechnet:\n",
    "\n",
    "$$ P = Basisvektoren * (Schnittpunkt - \\vec{C}) $$\n",
    "\n",
    "Der Betrag des Punktes wird auf die Länge, Breite, Höhe normiert werden:\n",
    "\n",
    "$$ P_n = \\begin{pmatrix}\n",
    "\\frac{1}{b} \\\\ \\frac{1}{h} \\\\ \\frac{1}{l}\n",
    "\\end{pmatrix} * |P| $$\n",
    "\n",
    "Was wir jetzt noch nicht wissen ist die Richtung des Normalenvektors.\n",
    "\n",
    "Die Richtung des Normalenvektor ist abhängig von der Seite des Quaders auf der Schnittpunkt ist.\n",
    "\n",
    "Um die Seite des Quaders zu bestimmen wird nach dem größten Wert von x,y,z gesucht.\n",
    "\n",
    "Im nachfolgenden Beispiel haben wir ein Quader dessen Mittelpunkt bei $(0,0,0)$ liegt und eine Kantenlänge von 1 hat.\n"
   ]
  },
  {
   "attachments": {},
   "cell_type": "markdown",
   "metadata": {},
   "source": [
    "![AABBNormalVector](assets/AABBNormalvector.jpg)"
   ]
  },
  {
   "attachments": {},
   "cell_type": "markdown",
   "metadata": {},
   "source": [
    "\n",
    "Der Schnittpunkt des Rays (rot) ist bei Punkt $P (0,0.5,0)$.\n",
    "\n",
    "Um den größten der drei Werte x,y,z zu bekommen, schauen wir uns die Beträge der Koordinaten an:\n",
    "- $x = |0|$\n",
    "- $y = |0.5|$\n",
    "- $z = |0|$\n",
    "\n",
    "Der größte Wert des Punktes P ist y.\n",
    "\n",
    "Daraus kann nun der Normalvektor $N (n_x,n_y,n_z)$ bestimmt werden:\n",
    "\n",
    "$n_x$ und $n_z$ werden auf Null gesetzt und $n_y$ also die Koordinate mit dem größten Wert auf ±1. Das Vorzeichen wird bestimmt durch das Vorzeichen der größten Koordinate, hier y. Da y einen positiven Wert hat ist $n_y = 1$.\n",
    "\n",
    "Daraus ergibt sich für $N: (0,1,0)$, im Bild orange.\n",
    "\n",
    "Das Entscheiden des Vorzeichens und das Zuweisen des Wertes 1 wird mithilfe der sign(x) Methode gemacht."
   ]
  }
 ],
 "metadata": {
  "kernelspec": {
   "display_name": "Python 3",
   "language": "python",
   "name": "python3"
  },
  "language_info": {
   "name": "python",
   "version": "3.10.6 (main, Nov 14 2022, 16:10:14) [GCC 11.3.0]"
  },
  "orig_nbformat": 4,
  "vscode": {
   "interpreter": {
    "hash": "e7370f93d1d0cde622a1f8e1c04877d8463912d04d973331ad4851f04de6915a"
   }
  }
 },
 "nbformat": 4,
 "nbformat_minor": 2
}
