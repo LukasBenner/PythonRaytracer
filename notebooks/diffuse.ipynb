{
 "cells": [
  {
   "cell_type": "code",
   "execution_count": null,
   "metadata": {},
   "outputs": [],
   "source": [
    "import numpy as np\n",
    "\n",
    "from raypy.random import CosinePdf, SphericalCapsPdf, MixedPdf\n",
    "from raypy.materials.material import Material\n",
    "from raypy.textures.texture import Texture, SolidColor\n",
    "from raypy.utils.vector3 import vec3, rgb\n",
    "from raypy.ray import get_ray_color, Ray"
   ]
  },
  {
   "attachments": {},
   "cell_type": "markdown",
   "metadata": {},
   "source": [
    "## Diffuse Materialien\n",
    "\n",
    "Diffuse Materialien nehmen die Farbe ihrer Umgebung moduliert mit ihrer eigenen Farbe an. Trifft ein Lichtstrahl auf ein Objekt aus diffusem Material wird der Lichtstrahl in eine zufällige Richtung reflektiert. Wird der Lichtstrahl in einen Spalt zwischen zwei diffusen Objekten gestrahlt, kann es passieren, dass er durch die Reflektion zwischen den beiden Objekten pendelt.\n"
   ]
  },
  {
   "attachments": {},
   "cell_type": "markdown",
   "metadata": {},
   "source": [
    "![DiffuseMaterialReflection](assets/DiffuseMaterialRayReflection.jpg)"
   ]
  },
  {
   "attachments": {},
   "cell_type": "markdown",
   "metadata": {},
   "source": [
    "Die Reflektion ist nicht ganz zufällig.\n",
    "Am Auftreffpunkt P werden ergeben sich durch Addition bzw. Subtraktion zwei neue Punkte $P + \\vec{N}$ und $P - \\vec{N}$, um diese Punkte ergeben sich 2 Einheits-Kugeln mit den beiden Punkten als Mittelpunkt. Eine Kugel liegt innerhalb der Kugel, für uns uninteressant und die andere liegt außerhalb der Kugel.\n",
    "\n",
    "Innerhalb des äußeren Einheitkreis wird nun ein beliebiger Punkt $S$ gewählt. Der Strahl der von Auftreffpunkt P zum zufälligen Punkt S führt stellt den reflektierten Lichtstrahl dar.\n",
    "\n",
    "Ein Problem, dass noch beachtet werden muss ist, dass es passieren kann, dass ein Lichtstrahl zwischen zwei diffusen Objekten unendlich oft hin und her reflektiert wird, ähnlich wie der orangene Strahl im obigen Bild. Um dies zu verhindern gibt es eine maximale Reflektionsanzahl ??, wird diese Zahl erreicht, so wird als Farbe schwarz zurück gegeben."
   ]
  },
  {
   "attachments": {},
   "cell_type": "markdown",
   "metadata": {},
   "source": [
    "![DiffuseMaterialNormalVector](assets/DiffuseMaterialNormalvectors.jpg)"
   ]
  },
  {
   "cell_type": "code",
   "execution_count": null,
   "metadata": {},
   "outputs": [],
   "source": [
    "class Diffuse(Material):\n",
    "  def __init__(self, diff_color, diffuse_rays = 20, ambient_weight = 0.5, **kwargs):\n",
    "        super().__init__(**kwargs)\n",
    "\n",
    "        if isinstance(diff_color, vec3):\n",
    "            self.diff_texture = SolidColor(diff_color)\n",
    "        elif isinstance(diff_color, Texture):\n",
    "            self.diff_texture = diff_color\n",
    "\n",
    "        self.diffuse_rays = diffuse_rays\n",
    "        self.max_diffuse_reflections = 2\n",
    "        self.ambient_weight = ambient_weight\n",
    "\n",
    "  def get_color(self, scene, ray, hit):\n",
    "      hit.point = (ray.origin + ray.dir * hit.distance) # intersection point\n",
    "      diff_color = self.diff_texture.get_color(hit)\n",
    "\n",
    "      N = hit.material.get_normal(hit)  \n",
    "\n",
    "      color = rgb(0.,0.,0.)\n",
    "\n",
    "      if ray.diffuse_reflections < 1:\n",
    "\n",
    "          nudged = hit.point + N * .000001\n",
    "          N_repeated = N.repeat(self.diffuse_rays)\n",
    "\n",
    "          if ray.n.shape() == 1:\n",
    "              n_repeated = ray.n\n",
    "          else:\n",
    "              n_repeated = ray.n.repeat(self.diffuse_rays)\n",
    "\n",
    "          nudged_repeated = nudged.repeat(self.diffuse_rays)\n",
    "\n",
    "          size = N.shape()[0] * self.diffuse_rays\n",
    "\n",
    "          pdf1 = CosinePdf(size, N_repeated)\n",
    "          pdf2 = SphericalCapsPdf(size, nudged_repeated, scene.importance_sampled_list)\n",
    "          s_pdf = None\n",
    "          if scene.importance_sampled_list == []:\n",
    "              s_pdf = CosinePdf(size, N_repeated)\n",
    "          else:\n",
    "              s_pdf = MixedPdf(size, pdf1, pdf2, self.ambient_weight)\n",
    "\n",
    "          ray_dir = s_pdf.generate()\n",
    "          PDF_val = s_pdf.value(ray_dir)\n",
    "\n",
    "          s_direction = np.clip(ray_dir.dot(N_repeated),0.,1.) / (np.pi)\n",
    "          \n",
    "          color_direction = get_ray_color(\n",
    "            Ray(nudged_repeated, ray_dir, \n",
    "              ray.depth + 1, \n",
    "              n_repeated, \n",
    "              ray.reflections + 1, \n",
    "              ray.transmissions, \n",
    "              ray.diffuse_reflections + 1), \n",
    "            scene)\n",
    "          color_temp = color_direction * s_direction  / PDF_val  #  diff_color/np.pi = Lambertian BRDF\n",
    "          color += diff_color * color_temp.reshape(N.shape()[0], self.diffuse_rays).mean(axis = 1)\n",
    "\n",
    "          return color\n",
    "\n",
    "      elif ray.diffuse_reflections < self.max_diffuse_reflections:\n",
    "          \"\"\"\n",
    "          when ray.diffuse_reflections > 1 we just call one diffuse ray to solve rendering equation (otherwise is too slow)\n",
    "          \"\"\"\n",
    "          \n",
    "          nudged = hit.point + N * .000001\n",
    "          size = N.shape()[0] \n",
    "          s_pdf = None\n",
    "          pdf1 = CosinePdf(size, N)\n",
    "          pdf2 = SphericalCapsPdf(size, nudged, scene.importance_sampled_list)\n",
    "\n",
    "          if scene.importance_sampled_list == []:\n",
    "              s_pdf = CosinePdf(size, N)\n",
    "          else:\n",
    "              s_pdf = MixedPdf(size, pdf1, pdf2, self.ambient_weight)\n",
    "\n",
    "          ray_dir = s_pdf.generate()\n",
    "          PDF_val = s_pdf.value(ray_dir)\n",
    "\n",
    "          s_direction = np.clip(N.dot(ray_dir),0.,1.)\n",
    "          color_temp = diff_color * get_ray_color(Ray(nudged, ray_dir, ray.depth + 1, ray.n, ray.reflections + 1, ray.transmissions, ray.diffuse_reflections + 1), scene)\n",
    "          color = color_temp * s_direction  / PDF_val / (np.pi) \n",
    "\n",
    "          return color\n",
    "\n",
    "      else:\n",
    "          return color"
   ]
  }
 ],
 "metadata": {
  "kernelspec": {
   "display_name": "Python 3",
   "language": "python",
   "name": "python3"
  },
  "language_info": {
   "name": "python",
   "version": "3.10.6 (main, Nov 14 2022, 16:10:14) [GCC 11.3.0]"
  },
  "orig_nbformat": 4,
  "vscode": {
   "interpreter": {
    "hash": "e7370f93d1d0cde622a1f8e1c04877d8463912d04d973331ad4851f04de6915a"
   }
  }
 },
 "nbformat": 4,
 "nbformat_minor": 2
}
