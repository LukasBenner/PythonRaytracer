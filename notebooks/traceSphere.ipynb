{
 "cells": [
  {
   "cell_type": "code",
   "execution_count": 107,
   "metadata": {},
   "outputs": [],
   "source": [
    "import sys\n",
    "sys.path.append('../')\n",
    "\n",
    "from PIL import Image\n",
    "import numpy as np\n",
    "from raypy.camera import Camera\n",
    "from raypy.ray import Ray\n",
    "from raypy.geometry.sphere import Sphere\n",
    "from raypy.ray import Hit\n",
    "from raypy.utils.constants import *\n",
    "from raypy.utils.vector3 import vec3, rgb, extract\n",
    "from functools import reduce as reduce"
   ]
  },
  {
   "cell_type": "code",
   "execution_count": 108,
   "metadata": {},
   "outputs": [],
   "source": [
    "sphere = Sphere(vec3(0,0,0), None, 1.0)\n",
    "index_of_refraction = vec3(1.0,1.0,1.0)\n",
    "camera = Camera(screen_width=300 ,screen_height=300, look_from = vec3(0, 0, 10), look_at = vec3(0,0,0), focal_distance= 1., field_of_view= 40)"
   ]
  },
  {
   "cell_type": "code",
   "execution_count": 109,
   "metadata": {},
   "outputs": [],
   "source": [
    "rays = camera.get_ray(index_of_refraction)"
   ]
  },
  {
   "cell_type": "code",
   "execution_count": 110,
   "metadata": {},
   "outputs": [],
   "source": [
    "colliderList = sphere.collider_list\n",
    "\n",
    "intersects = [c.intersect(rays.origin, rays.dir) for c in colliderList]\n",
    "# intersect every ray with the sphere"
   ]
  },
  {
   "cell_type": "code",
   "execution_count": 111,
   "metadata": {},
   "outputs": [],
   "source": [
    "distances, hit_orientation = zip(*intersects)\n",
    "# distances"
   ]
  },
  {
   "cell_type": "code",
   "execution_count": 112,
   "metadata": {},
   "outputs": [],
   "source": [
    "nearest = reduce(np.minimum, distances)\n",
    "color = rgb(0., 0., 0.)"
   ]
  },
  {
   "cell_type": "code",
   "execution_count": 113,
   "metadata": {},
   "outputs": [],
   "source": [
    "zipped = zip(colliderList, distances, hit_orientation)\n",
    "\n",
    "for (coll, dis, orient) in zipped:\n",
    "    hit_check = (nearest != FARAWAY) & (dis == nearest)\n",
    "\n",
    "    if np.any(hit_check):\n",
    "        hit_info = Hit(extract(hit_check, dis), extract(hit_check, orient), material=None, collider=coll, surface=coll.assigned_primitive)\n",
    "\n",
    "        ray = rays.extract(hit_check)\n",
    "        origin = ray.origin\n",
    "        direction = ray.dir\n",
    "        hit_info.point = origin + direction * hit_info.distance\n",
    "        normal = hit_info.get_normal()\n",
    "\n",
    "        cc = normal * 0.5 + 0.5\n",
    "        color += cc.place(hit_check)"
   ]
  },
  {
   "cell_type": "code",
   "execution_count": 114,
   "metadata": {},
   "outputs": [
    {
     "data": {
      "image/png": "[encoded data removed]",
      "text/plain": [
       "<PIL.Image.Image image mode=RGB size=300x300>"
      ]
     },
     "metadata": {},
     "output_type": "display_data"
    }
   ],
   "source": [
    "color = color.to_array()\n",
    "\n",
    "img_RGB = []\n",
    "for c in color:\n",
    "    # create an image layer from every rgb channel\n",
    "    img_RGB += [Image.fromarray((255 * np.clip(c, 0, 1).reshape((300, 300))).astype(np.uint8), \"L\")]\n",
    "\n",
    "img = Image.merge(\"RGB\", img_RGB)\n",
    "display(img)"
   ]
  }
 ],
 "metadata": {
  "kernelspec": {
   "display_name": "venv",
   "language": "python",
   "name": "python3"
  },
  "language_info": {
   "codemirror_mode": {
    "name": "ipython",
    "version": 3
   },
   "file_extension": ".py",
   "mimetype": "text/x-python",
   "name": "python",
   "nbconvert_exporter": "python",
   "pygments_lexer": "ipython3",
   "version": "3.10.9 (main, Dec 19 2022, 17:35:49) [GCC 12.2.0]"
  },
  "vscode": {
   "interpreter": {
    "hash": "8fc5615ef0ed62560741bd268b6514b5cf9423e847e33b411031c2f4d6a589ca"
   }
  }
 },
 "nbformat": 4,
 "nbformat_minor": 1
}
