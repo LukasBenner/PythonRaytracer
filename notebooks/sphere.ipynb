{
 "cells": [
  {
   "cell_type": "code",
   "execution_count": null,
   "metadata": {},
   "outputs": [],
   "source": [
    "import numpy as np\n",
    "\n",
    "from .primitive import Primitive\n",
    "from .collider import Collider\n",
    "\n",
    "from raypy.utils.constants import *\n"
   ]
  },
  {
   "attachments": {},
   "cell_type": "markdown",
   "metadata": {},
   "source": [
    "## Sphäre\n",
    "\n",
    "Eine Sphäre (oft auch Kugel genannt) beschreibt eine runde Figur oder ihre Oberfläche. Wichtig dabei ist, dass jeder Punkt auf der Oberfläche die gleiche Distanz zum Mittelpunkt besitzt.\n"
   ]
  },
  {
   "attachments": {},
   "cell_type": "markdown",
   "metadata": {},
   "source": [
    "![Sphere](assets/Sphere.jpg)"
   ]
  },
  {
   "attachments": {},
   "cell_type": "markdown",
   "metadata": {},
   "source": [
    "\n",
    "Wird ein Lichtstrahl ausgesendet, muss berechnet werden ob und wie der Lichstrahl zur Späre steht. Hier interessiert vorallem der erste Auftreffpunkt. Es gibt dabei 3 Möglichkeiten wie der Lichtstrahl zur Späre steht.\n",
    "- Er verfehlt sie.\n",
    "- Er streift sie.\n",
    "- Er durchquert sie."
   ]
  },
  {
   "attachments": {},
   "cell_type": "markdown",
   "metadata": {},
   "source": [
    "![SphereIntersection](assets/IntersectionSphere.jpg)"
   ]
  },
  {
   "attachments": {},
   "cell_type": "markdown",
   "metadata": {},
   "source": [
    "Wird die Späre verfehlt, dann gibt es **keinen** Schnittpunkt.\n",
    "\n",
    "Wird die Späre nur gestriffen, dann gibt es **genau einen** Schnittpunkt, unser erster Auftreffpunkt (rot umkreist)\n",
    "\n",
    "Wird die Späre durchkreuzt, dann gibt es 2 Schnittpunkte, einen Eintrittspunkt und einen Austrittspunkt. In diesem Fall interessiert uns nur der erste Auftreffpunkt, also der Eintrittspunkt (rot umkreist).\n",
    "\n",
    "Die Schnittpunkte haben exakt den Radius r als Distanz zum Mittelpunkt."
   ]
  },
  {
   "attachments": {},
   "cell_type": "markdown",
   "metadata": {},
   "source": [
    "Bevor wir die Schnittpunkte berechnen schauen wir uns noch die unterschiedlichen Positionen des Ray Ursprungs an. Der Ursprung des Rays kann 3 Positionen haben:"
   ]
  },
  {
   "attachments": {},
   "cell_type": "markdown",
   "metadata": {},
   "source": [
    "![OriginRay](assets/OriginRay.jpg)"
   ]
  },
  {
   "attachments": {},
   "cell_type": "markdown",
   "metadata": {},
   "source": [
    "Möchte man nun die Schnittpunkte berechnen, benötigt man die Formel für den Ray:\n",
    "\n",
    "$$P(t)=\\vec{O}+\\vec{R}*t$$\n",
    "\n",
    "Aus dieser Formel können wir nun die Formeln für die Schnittpunkte aufstellen.\n",
    "\n",
    "$$P_1(t)=\\vec{O}+\\vec{R}*t_1$$\n",
    "\n",
    "$$P_2(t)=\\vec{O}+\\vec{R}*t_2$$"
   ]
  },
  {
   "attachments": {},
   "cell_type": "markdown",
   "metadata": {},
   "source": [
    "Wir suchen nun die Werte $t_1$ und $t_2$. In der Abbildung oben sieht man, dass $t_1$ den Abstand des Ursprungs des Rays $O$ zum Punkt $P_1$ beschreibt und $t_2$ ist der Abstand des Ursprungs $O$ zum Punkt $P_2$.\n",
    "\n",
    "Dafür brauchen wir die Gleichung der Sphäre.\n",
    "\n",
    "Liegt der Radius im Ursprung $U (0,0,0)$ und der Punkt auf der Oberfläche so ergibt sich die Gleichung:\n",
    "$$x^2 + y^2 + z^2 = r^2$$\n",
    "\n",
    "Liegt der Radius nicht im Ursprung sondern im Punkt $M (M_x, M_y, M_z)$ ergibt sich:\n",
    "$$(x-M_x)^2 + (y-M_y)^2 + (y-M_z)^2 = r^2$$\n",
    "\n",
    "$x, y, z$ gehören in diesem Beispiel zu einem Punkt P, wodurch wir die Formel vereinfachen können:\n",
    "$$(P-M) * (P-M) = (x-M_x)^2 + (y-M_y)^2 + (y-M_z)^2 = r^2$$\n",
    "\n",
    "Wir suchen jetzt aber nicht irgendein Punkt P, sondern einen Punkt P der auf unserem Lichtstrahl $P(t)=\\vec{O}+\\vec{R}*t$ liegt. Daher setzen wir nun für P unsere Lichtstrahl-Gleichung ein:\n",
    "$$(\\vec{O}+\\vec{R}*t-M) * (\\vec{O}+\\vec{R}*t-M) = r^2$$\n",
    "\n",
    "Formen wir die quadratische Gleichung um erhalten wir vereinfacht:\n",
    "$$t^2 * \\vec{R} + t * 2*\\vec{R}*(\\vec{O}-M) + (\\vec{O}-M) * (\\vec{O}-M) - r^2 = 0$$\n",
    "\n",
    "Wie man sieht können wir jetzt einfach die Mitternachtsformel mit\n",
    "\n",
    "$ a = \\vec{R}$,\n",
    "\n",
    "$ b = 2*\\vec{R}*(\\vec{O}-M)$ und\n",
    "\n",
    "$c = (\\vec{O}-M) * (\\vec{O}-M) - r^2$\n",
    "\n",
    "anwenden, um unsere Werte $t_1$ und $t_2$ auszurechnen.\n",
    "\n",
    "\n",
    "Anhand des Ergebnis der Mitternachtsformel kann auch bestimmt werden, wie viele Schnittpunkte es gibt:\n",
    "- positiver Wert unter der Wurzel: **zwei** Schnittpunkte\n",
    "- 0 unter der Wurzel: **ein** Schnittpunkt\n",
    "- negativer Wert unter der Wurzel: **kein** Schnittpunkt"
   ]
  },
  {
   "attachments": {},
   "cell_type": "markdown",
   "metadata": {},
   "source": [
    "Nachfolgend sind 2 Klassen, um eine Späre/Kugel darzustellen.\n",
    "\n",
    "Die erste Klasse ist die **primitive** Darstellung, bedeutet damit werden die Parameter der Kugel festgelegt, wie Mittelpunkt, Radius, Material, ...\n",
    "\n",
    "Die zweite Klasse implementiert die Aktionen die beim Aussenden eines Rays abgehandelt werden müssen, bedeutet das Ausrechen des Schnittpunkts."
   ]
  },
  {
   "cell_type": "code",
   "execution_count": null,
   "metadata": {},
   "outputs": [],
   "source": [
    "class Sphere(Primitive):\n",
    "    def __init__(self, center, material, radius, max_ray_depth=5, shadow=True):\n",
    "        super().__init__(center, material, max_ray_depth, shadow)\n",
    "        self.collider_list += [SphereCollider(assigned_primitive=self, center=center, radius=radius)]\n",
    "        self.bounded_sphere_radius = radius\n",
    "\n",
    "    def get_uv(self, hit):\n",
    "        return hit.collider.get_uv(hit)\n"
   ]
  },
  {
   "cell_type": "code",
   "execution_count": null,
   "metadata": {},
   "outputs": [],
   "source": [
    "class SphereCollider(Collider):\n",
    "    def __init__(self,  radius, **kwargs):\n",
    "        super().__init__(**kwargs)\n",
    "        self.radius = radius\n",
    "\n",
    "    def intersect(self, origin, direction):\n",
    "        b = 2 * direction.dot(origin - self.center)\n",
    "        c = self.center.square_length() + origin.square_length() - 2 * self.center.dot(origin) - (self.radius * self.radius)\n",
    "        disc = (b ** 2) - (4 * c)\n",
    "        sq = np.sqrt(np.maximum(0, disc))\n",
    "        h0 = (-b - sq) / 2\n",
    "        h1 = (-b + sq) / 2\n",
    "        h = np.where((h0 > 0) & (h0 < h1), h0, h1)\n",
    "        pred = (disc > 0) & (h > 0)\n",
    "        M = (origin + direction * h)\n",
    "        NdotD = ((M - self.center) * (1. / self.radius)).dot(direction)\n",
    "\n",
    "        pred1 = (disc > 0) & (h > 0) & (NdotD > 0)\n",
    "        pred2 = (disc > 0) & (h > 0) & (NdotD < 0)\n",
    "        pred3 = True\n",
    "\n",
    "        # return an array with hit distance and the hit orientation\n",
    "        return np.select([pred1, pred2, pred3],\n",
    "                         [[h, np.tile(UPDOWN, h.shape)], [h, np.tile(UPWARDS, h.shape)], FARAWAY])\n",
    "\n",
    "    def get_normal(self, hit):\n",
    "        return (hit.point - self.center) / self.radius"
   ]
  }
 ],
 "metadata": {
  "kernelspec": {
   "display_name": "Python 3",
   "language": "python",
   "name": "python3"
  },
  "language_info": {
   "name": "python",
   "version": "3.10.6 (main, Nov 14 2022, 16:10:14) [GCC 11.3.0]"
  },
  "orig_nbformat": 4,
  "vscode": {
   "interpreter": {
    "hash": "e7370f93d1d0cde622a1f8e1c04877d8463912d04d973331ad4851f04de6915a"
   }
  }
 },
 "nbformat": 4,
 "nbformat_minor": 2
}
